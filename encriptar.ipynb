{
 "cells": [
  {
   "cell_type": "code",
   "execution_count": 1,
   "metadata": {
    "collapsed": true
   },
   "outputs": [],
   "source": [
    "texto = 'lo que mas me importa'"
   ]
  },
  {
   "cell_type": "code",
   "execution_count": 2,
   "metadata": {
    "collapsed": false
   },
   "outputs": [
    {
     "name": "stdout",
     "output_type": "stream",
     "text": [
      "['l', 'o', ' ', 'q', 'u', 'e', ' ', 'm', 'a', 's', ' ', 'm', 'e', ' ', 'i', 'm', 'p', 'o', 'r', 't', 'a']\n"
     ]
    }
   ],
   "source": [
    "mi_texto= []\n",
    "for i in texto:\n",
    "    mi_texto.append(i)\n",
    "print(mi_texto)"
   ]
  },
  {
   "cell_type": "markdown",
   "metadata": {},
   "source": [
    "Una idea simple de encriptar es sustituir unas letras por otras. Aquí  tenemos dos arreglos que nos permiten hacer el intercambio con el número de índice. Noten que se puede solucionar  de muchas formas: haciendo una sola matriz de dos dimensiones, cambiando el tamaño, cambiando los símbolos. Si no se usa todo el abecedario, se tiene que usar símbolos, como en el ejemplo.  "
   ]
  },
  {
   "cell_type": "code",
   "execution_count": 3,
   "metadata": {
    "collapsed": true
   },
   "outputs": [],
   "source": [
    "origen = [\"a\", \"e\",\"i\", \"o\", \"u\"]\n",
    "clave = [\"#\", \"+\",\"-\", \"<\", \"@\"]"
   ]
  },
  {
   "cell_type": "code",
   "execution_count": 7,
   "metadata": {
    "collapsed": false
   },
   "outputs": [
    {
     "name": "stdout",
     "output_type": "stream",
     "text": [
      "['l', '<', ' ', 'q', '@', '+', ' ', 'm', '#', 's', ' ', 'm', '+', ' ', '-', 'm', 'p', '<', 'r', 't', '#']\n"
     ]
    }
   ],
   "source": [
    "encriptado =[]\n",
    "for i in mi_texto:\n",
    "    if i in  origen:\n",
    "        #print(origen.index(i))\n",
    "        encriptado.append(clave[origen.index(i)])\n",
    "    else:\n",
    "        encriptado.append(i)\n",
    "print(encriptado)    "
   ]
  },
  {
   "cell_type": "code",
   "execution_count": 8,
   "metadata": {
    "collapsed": false
   },
   "outputs": [
    {
     "name": "stdout",
     "output_type": "stream",
     "text": [
      "l< q@+ m#s m+ -mp<rt#\n"
     ]
    }
   ],
   "source": [
    "salida = \"\"\n",
    "for i in encriptado:\n",
    "    salida += i\n",
    "print(salida)"
   ]
  },
  {
   "cell_type": "code",
   "execution_count": 10,
   "metadata": {
    "collapsed": false
   },
   "outputs": [
    {
     "name": "stdout",
     "output_type": "stream",
     "text": [
      "['l', 'o', ' ', 'q', 'u', 'e', ' ', 'm', 'a', 's', ' ', 'm', 'e', ' ', 'i', 'm', 'p', 'o', 'r', 't', 'a']\n"
     ]
    }
   ],
   "source": [
    "desencriptado =[]\n",
    "for i in encriptado:\n",
    "    if i in  clave:\n",
    "        #print(origen.index(i))\n",
    "        desencriptado.append(origen[clave.index(i)])\n",
    "    else:\n",
    "        desencriptado.append(i)\n",
    "print(desencriptado)    "
   ]
  },
  {
   "cell_type": "code",
   "execution_count": 11,
   "metadata": {
    "collapsed": false
   },
   "outputs": [
    {
     "name": "stdout",
     "output_type": "stream",
     "text": [
      "lo que mas me importa\n"
     ]
    }
   ],
   "source": [
    "salida = \"\"\n",
    "for i in desencriptado:\n",
    "    salida += i\n",
    "print(salida)"
   ]
  },
  {
   "cell_type": "code",
   "execution_count": null,
   "metadata": {
    "collapsed": true
   },
   "outputs": [],
   "source": []
  }
 ],
 "metadata": {
  "kernelspec": {
   "display_name": "Python 3",
   "language": "python",
   "name": "python3"
  },
  "language_info": {
   "codemirror_mode": {
    "name": "ipython",
    "version": 3
   },
   "file_extension": ".py",
   "mimetype": "text/x-python",
   "name": "python",
   "nbconvert_exporter": "python",
   "pygments_lexer": "ipython3",
   "version": "3.6.6"
  }
 },
 "nbformat": 4,
 "nbformat_minor": 2
}
